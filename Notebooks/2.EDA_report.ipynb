{
 "cells": [
  {
   "cell_type": "code",
   "execution_count": null,
   "metadata": {},
   "outputs": [
    {
     "ename": "",
     "evalue": "",
     "output_type": "error",
     "traceback": [
      "\u001b[1;31mNo se pudo iniciar el Kernel. \n",
      "\u001b[1;31mUnable to start Kernel 'base (Python 3.9.13)' due to connection timeout. \n",
      "\u001b[1;31mView Jupyter <a href='command:jupyter.viewOutput'>log</a> for further details."
     ]
    }
   ],
   "source": [
    "import pandas as pd\n",
    "import numpy as np\n",
    "import matplotlib.pyplot as plt\n",
    "import seaborn as sns"
   ]
  },
  {
   "attachments": {},
   "cell_type": "markdown",
   "metadata": {},
   "source": [
    "## EDA (Exploratory Data Analysis)"
   ]
  },
  {
   "cell_type": "code",
   "execution_count": null,
   "metadata": {},
   "outputs": [],
   "source": [
    "# Se carga los dos datasets creados\n",
    "\n",
    "df=pd.read_csv(\"../datasets/df.csv\")"
   ]
  },
  {
   "cell_type": "code",
   "execution_count": null,
   "metadata": {},
   "outputs": [],
   "source": [
    "df"
   ]
  },
  {
   "cell_type": "code",
   "execution_count": null,
   "metadata": {},
   "outputs": [],
   "source": [
    "# Se grafica la cantidad de compañias por sector\n",
    "\n",
    "\n",
    "# Tema para los graficos\n",
    "sns.set_style(\"darkgrid\")\n",
    "\n",
    "empresas_por_sector = df.groupby('sector')['sym'].nunique()\n",
    "empresas_por_sector.plot(kind='bar')\n",
    "\n",
    "# Etiquetas de barras\n",
    "for i, v in enumerate(empresas_por_sector.values):\n",
    "    plt.text(i, v, str(v), ha='center', va='bottom')\n",
    "\n",
    "\n",
    "plt.title('Compañias/sector S&P 500')\n",
    "plt.xlabel('Sectores')\n",
    "plt.ylabel('Número de empresas')\n",
    "plt.show()"
   ]
  },
  {
   "cell_type": "code",
   "execution_count": null,
   "metadata": {},
   "outputs": [],
   "source": [
    "# (Top 10) empresas con mayor valorización de sus acciones los ultimos 5 años\n",
    "\n",
    "df0=df.iloc[:, 3:28] # Se toma el rango de años para el analisis\n",
    "\n",
    "df0.rename(columns={df0.columns[24]: \"año_23\"}, inplace=True)\n",
    "# Se calcula el cambio porcentual por año del valor de las acciones en la columna 'pct_change'"
   ]
  },
  {
   "cell_type": "code",
   "execution_count": null,
   "metadata": {},
   "outputs": [],
   "source": [
    "# Top 10 compañias con mayor tiempo en S&P 500\n",
    "\n",
    "df1=df.iloc[:, [1, 3, 2]]\n",
    "\n",
    "df1.sort_values(by=df1.columns[2], ascending=False).head(10).reset_index(drop=True)"
   ]
  },
  {
   "cell_type": "code",
   "execution_count": null,
   "metadata": {},
   "outputs": [],
   "source": [
    "# (Top 10) empresas con mayor valorización de sus acciones los ultimos 5 años\n",
    "\n",
    "df2=df.iloc[:, [1, 3, 22,23,24,25,26, 27]] # Se toma el rango de años para el analisis\n",
    "df2.columns=['name','sector','año_18','año_19','año_20','año_21', 'año_22', 'año_23'] #\n",
    "\n",
    "# Se calcula el cambio porcentual por año del valor de las acciones en la columna 'pct_change'\n",
    "df2['pct_change'] = df2.iloc[:, [2,3,4,5,6,7]].pct_change(axis='columns')['año_23'] \n",
    "\n",
    "# Se ordena el dataframe descendentemente en 'pct_change'\n",
    "df2.sort_values(by=df2.columns[8], ascending=False).head(10).reset_index(drop=True)\n"
   ]
  }
 ],
 "metadata": {
  "kernelspec": {
   "display_name": "base",
   "language": "python",
   "name": "python3"
  },
  "language_info": {
   "name": "python",
   "version": "3.9.13"
  },
  "orig_nbformat": 4
 },
 "nbformat": 4,
 "nbformat_minor": 2
}
